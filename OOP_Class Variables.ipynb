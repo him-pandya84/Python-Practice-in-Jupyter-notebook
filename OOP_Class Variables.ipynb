{
 "cells": [
  {
   "cell_type": "markdown",
   "metadata": {
    "id": "-i_46ylbgw0n"
   },
   "source": [
    "## Class Variables\n",
    "In Python, class variables are variables that are shared by all instances of a class. They are defined within the class, but outside of any methods or constructors. Class variables are associated with the class itself rather than with specific instances of the class."
   ]
  },
  {
   "cell_type": "markdown",
   "metadata": {
    "id": "TvGvA63kgok5"
   },
   "source": [
    "## Class Methods\n",
    "In Python, a class method is a special type of method that is bound to the class rather than an instance of the class. It is defined using the @classmethod decorator, followed by a function definition within the class. Class methods have access to the class itself as the first parameter, conventionally named cls, instead of the instance (self) that is used in regular methods."
   ]
  },
  {
   "cell_type": "code",
   "execution_count": null,
   "metadata": {
    "colab": {
     "base_uri": "https://localhost:8080/"
    },
    "id": "edLqTbksgRkX",
    "outputId": "6dc2c240-648a-4aee-ccc2-effa1a8b726a"
   },
   "outputs": [
    {
     "name": "stdout",
     "output_type": "stream",
     "text": [
      "10\n",
      "20\n",
      "30\n",
      "15\n",
      "15\n"
     ]
    }
   ],
   "source": [
    "class MyClass:\n",
    "    class_variable = 10\n",
    "\n",
    "    def __init__(self, instance_variable):\n",
    "        self.instance_variable = instance_variable\n",
    "\n",
    "# Accessing class variables\n",
    "print(MyClass.class_variable)  # Output: 10\n",
    "\n",
    "# Creating instances of the class\n",
    "obj1 = MyClass(20)\n",
    "obj2 = MyClass(30)\n",
    "\n",
    "# Accessing instance variables\n",
    "print(obj1.instance_variable)  # Output: 20\n",
    "print(obj2.instance_variable)  # Output: 30\n",
    "\n",
    "# Modifying class variable\n",
    "MyClass.class_variable = 15\n",
    "\n",
    "# Class variable is shared by all instances\n",
    "print(obj1.class_variable)  # Output: 15\n",
    "print(obj2.class_variable)  # Output: 15\n"
   ]
  },
  {
   "cell_type": "markdown",
   "metadata": {
    "id": "HRSNhfSPgodf"
   },
   "source": [
    "## Static Methods\n",
    "In Python, a static method is a method that belongs to a class but doesn't have access to the class itself (via self) or its instances. Static methods are defined using the @staticmethod decorator and are typically used when a method doesn't require access to instance-specific data or class-specific data.\n",
    "\n",
    "Static methods are often used when you have a utility function or a method that doesn't depend on the state of a specific instance or the class itself. They are self-contained and don't have access to instance variables or class variables unless they are explicitly passed as arguments.\n",
    "\n",
    "It's important to note that static methods don't have the ability to modify the state of the instance or the class. They are independent of any specific instance and can be called without creating an instance of the class.\n",
    "\n"
   ]
  },
  {
   "cell_type": "code",
   "execution_count": null,
   "metadata": {
    "colab": {
     "base_uri": "https://localhost:8080/"
    },
    "id": "K2gAyCW7hkUm",
    "outputId": "fa9265c7-82f0-406a-abcd-9544e5232076"
   },
   "outputs": [
    {
     "name": "stdout",
     "output_type": "stream",
     "text": [
      "This is a static method.\n"
     ]
    }
   ],
   "source": [
    "class MyClass:\n",
    "    class_variable = 10\n",
    "\n",
    "    def __init__(self, instance_variable):\n",
    "        self.instance_variable = instance_variable\n",
    "\n",
    "    @staticmethod\n",
    "    def static_method():\n",
    "        print(\"This is a static method.\")\n",
    "\n",
    "# Calling the static method\n",
    "MyClass.static_method()\n"
   ]
  },
  {
   "cell_type": "code",
   "execution_count": null,
   "metadata": {
    "colab": {
     "base_uri": "https://localhost:8080/"
    },
    "id": "6-kgReSFhnH1",
    "outputId": "e1ede3ce-a0fc-409e-a01a-4bc41e8204e4"
   },
   "outputs": [
    {
     "name": "stdout",
     "output_type": "stream",
     "text": [
      "15\n"
     ]
    }
   ],
   "source": [
    "class MathUtils:\n",
    "    @staticmethod\n",
    "    def multiply(x, y):\n",
    "        return x * y\n",
    "\n",
    "result = MathUtils.multiply(5, 3)\n",
    "print(result)  # Output: 15\n"
   ]
  },
  {
   "cell_type": "code",
   "execution_count": null,
   "metadata": {
    "id": "0EPR3UL1h8NS"
   },
   "outputs": [],
   "source": [
    "class Employee:\n",
    "  company_name=\"iNeuron\" ##class variable\n",
    "\n",
    "  def __init__(self,first_name,last_name):\n",
    "    self.firstname=first_name #instance variables\n",
    "    self.lastname=last_name\n",
    "\n",
    "  ## class method\n",
    "  @classmethod\n",
    "  def change_company(cls,company_name):\n",
    "    cls.company_name=company_name\n",
    "\n"
   ]
  },
  {
   "cell_type": "code",
   "execution_count": null,
   "metadata": {
    "id": "9XGudXzPnpTj"
   },
   "outputs": [],
   "source": [
    "person1=Employee(\"Krish\",\"Naik\")"
   ]
  },
  {
   "cell_type": "code",
   "execution_count": null,
   "metadata": {
    "colab": {
     "base_uri": "https://localhost:8080/",
     "height": 35
    },
    "id": "MgMIxf7nnkbv",
    "outputId": "9b89185e-d9c3-4ec0-fd39-e691262f1e11"
   },
   "outputs": [
    {
     "data": {
      "application/vnd.google.colaboratory.intrinsic+json": {
       "type": "string"
      },
      "text/plain": [
       "'iNeuron'"
      ]
     },
     "execution_count": 28,
     "metadata": {},
     "output_type": "execute_result"
    }
   ],
   "source": [
    "person1.company_name"
   ]
  },
  {
   "cell_type": "code",
   "execution_count": null,
   "metadata": {
    "id": "Rgz-O9Mfn1M_"
   },
   "outputs": [],
   "source": [
    "Employee.change_company(\"PWSKILLS\")"
   ]
  },
  {
   "cell_type": "code",
   "execution_count": null,
   "metadata": {
    "colab": {
     "base_uri": "https://localhost:8080/",
     "height": 35
    },
    "id": "xuYS12Pqotxg",
    "outputId": "07cb2383-3bb2-434f-d11e-60dab394ab1a"
   },
   "outputs": [
    {
     "data": {
      "application/vnd.google.colaboratory.intrinsic+json": {
       "type": "string"
      },
      "text/plain": [
       "'PWSKILLS'"
      ]
     },
     "execution_count": 30,
     "metadata": {},
     "output_type": "execute_result"
    }
   ],
   "source": [
    "person1.company_name"
   ]
  },
  {
   "cell_type": "code",
   "execution_count": null,
   "metadata": {
    "colab": {
     "base_uri": "https://localhost:8080/",
     "height": 35
    },
    "id": "X6T3km5yr8De",
    "outputId": "ed39f2bd-18e9-4ecc-a055-b49d6cddd8da"
   },
   "outputs": [
    {
     "data": {
      "application/vnd.google.colaboratory.intrinsic+json": {
       "type": "string"
      },
      "text/plain": [
       "'PWSKILLS'"
      ]
     },
     "execution_count": 31,
     "metadata": {},
     "output_type": "execute_result"
    }
   ],
   "source": [
    "Employee.company_name"
   ]
  },
  {
   "cell_type": "code",
   "execution_count": null,
   "metadata": {
    "id": "fuwR8o_nsGI9"
   },
   "outputs": [],
   "source": [
    "class Car:\n",
    "  base_price=100000 ##class variable ## 2023 ##global access to all the instance variables\n",
    "\n",
    "  def __init__(self,model,brand):\n",
    "    self.model=model\n",
    "    self.brand=brand\n",
    "\n",
    "  def display_price(self):\n",
    "    print(f\"The base price is {self.base_price}\")\n",
    "\n",
    "  @classmethod\n",
    "  def update_base_price(cls,inflation):\n",
    "    cls.base_price=cls.base_price+ (cls.base_price *(inflation/100))\n",
    "\n"
   ]
  },
  {
   "cell_type": "code",
   "execution_count": null,
   "metadata": {
    "colab": {
     "base_uri": "https://localhost:8080/"
    },
    "id": "IVbbVRretwaY",
    "outputId": "6f479646-43de-4cd9-8baa-d87b2a434a54"
   },
   "outputs": [
    {
     "name": "stdout",
     "output_type": "stream",
     "text": [
      "The base price is 100000\n"
     ]
    }
   ],
   "source": [
    "car1=Car(\"BMW\",\"EV\")\n",
    "car1.display_price()"
   ]
  },
  {
   "cell_type": "code",
   "execution_count": null,
   "metadata": {
    "colab": {
     "base_uri": "https://localhost:8080/"
    },
    "id": "v0ekXrg7t8UV",
    "outputId": "8dbd4cf9-ea71-4e4a-a9e4-7ae1d641c0b8"
   },
   "outputs": [
    {
     "data": {
      "text/plain": [
       "100000"
      ]
     },
     "execution_count": 37,
     "metadata": {},
     "output_type": "execute_result"
    }
   ],
   "source": [
    "## 2024\n",
    "\n",
    "Car.base_price"
   ]
  },
  {
   "cell_type": "code",
   "execution_count": null,
   "metadata": {
    "id": "W_f5EI1EvXXy"
   },
   "outputs": [],
   "source": [
    "Car.update_base_price(10)"
   ]
  },
  {
   "cell_type": "code",
   "execution_count": null,
   "metadata": {
    "colab": {
     "base_uri": "https://localhost:8080/"
    },
    "id": "0oyJUYHFvgvg",
    "outputId": "3940a867-7774-400d-809e-b39823d4ae43"
   },
   "outputs": [
    {
     "data": {
      "text/plain": [
       "110000.0"
      ]
     },
     "execution_count": 39,
     "metadata": {},
     "output_type": "execute_result"
    }
   ],
   "source": [
    "Car.base_price"
   ]
  },
  {
   "cell_type": "code",
   "execution_count": null,
   "metadata": {
    "colab": {
     "base_uri": "https://localhost:8080/"
    },
    "id": "uPfInmTHvjQ7",
    "outputId": "fff6823c-8c4c-4bb9-95db-aa97c5f9782e"
   },
   "outputs": [
    {
     "data": {
      "text/plain": [
       "110000.0"
      ]
     },
     "execution_count": 40,
     "metadata": {},
     "output_type": "execute_result"
    }
   ],
   "source": [
    "car1.base_price"
   ]
  },
  {
   "cell_type": "code",
   "execution_count": null,
   "metadata": {
    "id": "OXyseQQqvpBD"
   },
   "outputs": [],
   "source": [
    "class BMW:\n",
    "  base_price=100000\n",
    "\n",
    "  def __init__(self,model):\n",
    "    self.model=model\n",
    "\n",
    "  def total_price(self):\n",
    "    if self.model==\"EV\":\n",
    "      ##functionality to calculate the price of the car\n",
    "\n",
    "      pass\n",
    "\n",
    "  @classmethod\n",
    "  def update_base_price(cls):\n",
    "    ##update thie base price\n",
    "\n",
    "    pass"
   ]
  },
  {
   "cell_type": "code",
   "execution_count": null,
   "metadata": {
    "id": "y7CYImjXyTPZ"
   },
   "outputs": [],
   "source": [
    "class Car:\n",
    "  base_price=100000 ##class variable ## 2023 ##global access to all the instance variables\n",
    "\n",
    "  def __init__(self,model,brand):\n",
    "    self.model=model\n",
    "    self.brand=brand\n",
    "\n",
    "  def display_price(self):\n",
    "    print(f\"The base price is {self.base_price}\")\n",
    "\n",
    "  @classmethod\n",
    "  def update_base_price(cls,inflation):\n",
    "    cls.base_price=cls.base_price+ (cls.base_price *(inflation/100))\n",
    "\n",
    "  #utility method\n",
    "  @staticmethod\n",
    "  def display_base_price():\n",
    "    print(Car.base_price)"
   ]
  },
  {
   "cell_type": "code",
   "execution_count": null,
   "metadata": {
    "colab": {
     "base_uri": "https://localhost:8080/"
    },
    "id": "uUfoZT8NzY4J",
    "outputId": "b92f35ac-ca49-44a3-e76d-888e023eca8c"
   },
   "outputs": [
    {
     "name": "stdout",
     "output_type": "stream",
     "text": [
      "100000\n"
     ]
    }
   ],
   "source": [
    "Car.display_base_price()"
   ]
  },
  {
   "cell_type": "code",
   "execution_count": null,
   "metadata": {
    "id": "hbK3SdHSzsFV"
   },
   "outputs": [],
   "source": [
    "\n",
    "\n",
    "\n",
    "\n"
   ]
  },
  {
   "cell_type": "code",
   "execution_count": null,
   "metadata": {
    "id": "KmorUY4v4Mw_"
   },
   "outputs": [],
   "source": []
  },
  {
   "cell_type": "code",
   "execution_count": null,
   "metadata": {
    "id": "lcf202Zq4Til"
   },
   "outputs": [],
   "source": []
  },
  {
   "cell_type": "code",
   "execution_count": null,
   "metadata": {
    "id": "tiVGmCvV4Vhy"
   },
   "outputs": [],
   "source": []
  }
 ],
 "metadata": {
  "colab": {
   "provenance": []
  },
  "kernelspec": {
   "display_name": "Python 3",
   "language": "python",
   "name": "python3"
  },
  "language_info": {
   "codemirror_mode": {
    "name": "ipython",
    "version": 3
   },
   "file_extension": ".py",
   "mimetype": "text/x-python",
   "name": "python",
   "nbconvert_exporter": "python",
   "pygments_lexer": "ipython3",
   "version": "3.8.8"
  }
 },
 "nbformat": 4,
 "nbformat_minor": 1
}
